{
 "cells": [
  {
   "cell_type": "code",
   "execution_count": 3,
   "id": "748acbde",
   "metadata": {},
   "outputs": [],
   "source": [
    "def sesar():\n",
    "    letters = 'ABCDEFGHIJKLMNOPQRSTUVWXYZABCDEFGHIJKLMNOPQRSTUVWXYZ'\n",
    "    step = 5\n",
    "    text = input('Тект для шифровки ')\n",
    "    result = ''\n",
    "    for i in text:\n",
    "        ind = letters.find(i)\n",
    "        newind = ind + step\n",
    "        if i in letters:\n",
    "            result += letters[newind]\n",
    "        else:\n",
    "            result += i\n",
    "    print(result)\n",
    "    \n",
    "def sesar_dec():\n",
    "    letters = 'ABCDEFGHIJKLMNOPQRSTUVWXYZABCDEFGHIJKLMNOPQRSTUVWXYZ'\n",
    "    step = 5\n",
    "    text = input('Текст для дешивровки: ')\n",
    "    result = ''\n",
    "    for i in text:\n",
    "        ind = letters.find(i)\n",
    "        newind = ind - step\n",
    "        if i in letters:\n",
    "            result += letters[newind]\n",
    "        else:\n",
    "            result += i\n",
    "    print(result)"
   ]
  },
  {
   "cell_type": "code",
   "execution_count": 4,
   "id": "f77b5579",
   "metadata": {},
   "outputs": [
    {
     "name": "stdout",
     "output_type": "stream",
     "text": [
      "Тект для шифровки RUDN\n",
      "WZIS\n"
     ]
    }
   ],
   "source": [
    "sesar()"
   ]
  },
  {
   "cell_type": "code",
   "execution_count": 5,
   "id": "efa5e590",
   "metadata": {},
   "outputs": [
    {
     "name": "stdout",
     "output_type": "stream",
     "text": [
      "Текст для дешивровки: WZIS\n",
      "RUDN\n"
     ]
    }
   ],
   "source": [
    "sesar_dec()"
   ]
  },
  {
   "cell_type": "code",
   "execution_count": 15,
   "id": "8a687b14",
   "metadata": {},
   "outputs": [],
   "source": [
    "def atbash():\n",
    "    letters = 'ABCDEFGHIJKLMNOPQRSTUVWXYZ'\n",
    "    letters_r = [x for x in letters]\n",
    "    letters_r.reverse()\n",
    "\n",
    "    text = input(\"Тект для шифровки\")\n",
    "    result = \"\"\n",
    "    for i in text:\n",
    "        for j,l in enumerate(letters):\n",
    "            if i == l:\n",
    "                result += letters_r[j]\n",
    "    print(result)\n",
    "    \n",
    "def atbash_dec():\n",
    "    letters = 'ABCDEFGHIJKLMNOPQRSTUVWXYZ'\n",
    "    letters_r = [x for x in letters]\n",
    "    letters_r.reverse()\n",
    "    text = input('Тект для дешифровки ')\n",
    "    result = ''\n",
    "    for i in text:\n",
    "        for j, l in enumerate(letters_r):\n",
    "            if i == l:\n",
    "                result += letters[j]\n",
    "    print(result)"
   ]
  },
  {
   "cell_type": "code",
   "execution_count": 16,
   "id": "60babe5a",
   "metadata": {},
   "outputs": [
    {
     "name": "stdout",
     "output_type": "stream",
     "text": [
      "Тект для шифровкиRUDN\n",
      "IFWM\n"
     ]
    }
   ],
   "source": [
    "atbash()"
   ]
  },
  {
   "cell_type": "code",
   "execution_count": 17,
   "id": "4368b41d",
   "metadata": {},
   "outputs": [
    {
     "name": "stdout",
     "output_type": "stream",
     "text": [
      "Тект для дешифровки IFWM\n",
      "RUDN\n"
     ]
    }
   ],
   "source": [
    "atbash_dec()"
   ]
  },
  {
   "cell_type": "code",
   "execution_count": null,
   "id": "365b2101",
   "metadata": {},
   "outputs": [],
   "source": []
  }
 ],
 "metadata": {
  "kernelspec": {
   "display_name": "Python 3 (ipykernel)",
   "language": "python",
   "name": "python3"
  },
  "language_info": {
   "codemirror_mode": {
    "name": "ipython",
    "version": 3
   },
   "file_extension": ".py",
   "mimetype": "text/x-python",
   "name": "python",
   "nbconvert_exporter": "python",
   "pygments_lexer": "ipython3",
   "version": "3.9.9"
  }
 },
 "nbformat": 4,
 "nbformat_minor": 5
}
